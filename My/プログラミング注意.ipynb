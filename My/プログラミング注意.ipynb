{
 "cells": [
  {
   "cell_type": "code",
   "execution_count": null,
   "metadata": {},
   "outputs": [],
   "source": [
    "# 変数名が分かりにくい場合，いくつもある場合 ー＞ 横にコメントで補足を書いておく\n",
    "# 関数の説明は変数名から想像しにくい場合でよい．引数なども明示的に書くのは分かりにくいとき\n",
    "\n",
    "import sys\n",
    "\n",
    "# 積極的に関数化\n",
    "def is_prime(n:int) -> bool:\n",
    "    \"\"\" 素数かどうか判定\"\"\"\n",
    "    for i in range(2,n):\n",
    "        if n%(i) == 0:\n",
    "            return False\n",
    "    return True\n",
    "\n",
    "# main の位置を指定\n",
    "if __name__ == '__main__':\n",
    "    #n = int(sys.argv[1])\n",
    "    n = int(input())                # 入力とそれ以降を分ける\n",
    "    assert n>=1, 'n >= 1'           # エラー処理は必ず行う\n",
    "\n",
    "    count = 0\n",
    "    for i in range(2,float('inf')):\n",
    "        if is_prime(i):             # 条件がまたがるときは開ける方が見やすい\n",
    "            count += 1\n",
    "\n",
    "        if count == n:\n",
    "            print(i)\n",
    "            break"
   ]
  }
 ],
 "metadata": {
  "language_info": {
   "name": "python"
  },
  "orig_nbformat": 4
 },
 "nbformat": 4,
 "nbformat_minor": 2
}
