{
 "cells": [
  {
   "attachments": {},
   "cell_type": "markdown",
   "metadata": {},
   "source": [
    "## 問題１ a,b,c...z,aa,bb,...zzz と表されたとき，与えられた文字列の番号を答えよ．"
   ]
  },
  {
   "cell_type": "code",
   "execution_count": null,
   "metadata": {},
   "outputs": [],
   "source": [
    "# method1\n",
    "def id_to_number(s):\n",
    "    n = len(s)\n",
    "    base = 26\n",
    "    ans = 0\n",
    "    for i in range(n):\n",
    "        ans += (ord(s[i]) - ord('A') + 1) * (base ** (n - i - 1))\n",
    "        print(ord(s[i]) - ord('A') + 1, base, '**', (n - i - 1))\n",
    "    return ans\n",
    "\n",
    "S = input()\n",
    "print(id_to_number(S))\n",
    "\n",
    "# method2\n",
    "def id_to_number(s):\n",
    "    n = len(s)\n",
    "    base = 26\n",
    "    ans = 0\n",
    "    for i in range(n):\n",
    "        ans = ans * base + ord(s[i]) - ord('A') + 1\n",
    "    return ans - 1\n",
    "\n",
    "S = input()\n",
    "print(id_to_number(S))\n",
    "\n",
    "\"\"\"\n",
    "進数に変換できることに気づけるかどうか．\n",
    "数字の時と文字の時で違うのは始まりに 0 てきな感じになってもよいこと\n",
    "\"\"\""
   ]
  },
  {
   "attachments": {},
   "cell_type": "markdown",
   "metadata": {},
   "source": [
    "## 問題２ 与えられた値を指定された進数に変換"
   ]
  },
  {
   "cell_type": "code",
   "execution_count": null,
   "metadata": {},
   "outputs": [],
   "source": [
    "def convert_to_base(number, base):\n",
    "    if number == 0:\n",
    "        return '0'\n",
    "    alphabet = '0123456789ABCDEFGHIJKLMNOPQRSTUVWXYZ'\n",
    "    result = '' # 文字列！！\n",
    "    while number > 0:\n",
    "        digit = number % base\n",
    "        result = alphabet[digit] + result\n",
    "        number //= base\n",
    "        print(f'digit={digit}, result={result}, number={number}') \n",
    "    return result\n",
    "\n",
    "# 使用例\n",
    "print(convert_to_base(100, 2)) # 1100100\n",
    "print(convert_to_base(100, 8)) # 144\n",
    "print(convert_to_base(100, 16)) # 64\n",
    "\n",
    "\n",
    "def bin2dec(number):\n",
    "    number=str(number).split()\n",
    "    \n",
    "    decimal=0\n",
    "    print(number)\n",
    "    print(type(number))\n",
    "    for i in len(number):\n",
    "        decimal += number[i]**10\n",
    "        print(decimal)\n",
    "    return decimal\n",
    "\n",
    "bin2dec(10101)"
   ]
  }
 ],
 "metadata": {
  "language_info": {
   "name": "python"
  },
  "orig_nbformat": 4
 },
 "nbformat": 4,
 "nbformat_minor": 2
}
